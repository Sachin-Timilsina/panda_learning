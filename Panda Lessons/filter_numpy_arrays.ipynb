{
 "cells": [
  {
   "cell_type": "code",
   "execution_count": 1,
   "id": "32e6a7c1-6947-41ab-95fc-66feb6857963",
   "metadata": {},
   "outputs": [
    {
     "data": {
      "text/plain": [
       "array([1, 2, 3, 4, 6])"
      ]
     },
     "execution_count": 1,
     "metadata": {},
     "output_type": "execute_result"
    }
   ],
   "source": [
    "import numpy as np\n",
    "\n",
    "array_1 = np.array([1,2,3,4,5,6])\n",
    "filter = [True,True,True,True,False,True] # Boolean indexes array to filter numpy array\n",
    "array_1[filter]"
   ]
  },
  {
   "cell_type": "code",
   "execution_count": 4,
   "id": "42902f0c-3481-402d-9264-4cff39272954",
   "metadata": {},
   "outputs": [
    {
     "data": {
      "text/plain": [
       "array([2, 4, 6])"
      ]
     },
     "execution_count": 4,
     "metadata": {},
     "output_type": "execute_result"
    }
   ],
   "source": [
    "# Shortcut!\n",
    "filter = array_1 % 2 == 0 # Filter for even numbers\n",
    "array_1[filter]"
   ]
  },
  {
   "cell_type": "code",
   "execution_count": null,
   "id": "5921ff88-63bc-42e2-889c-139c893e0bba",
   "metadata": {},
   "outputs": [],
   "source": []
  }
 ],
 "metadata": {
  "kernelspec": {
   "display_name": "Python 3 (ipykernel)",
   "language": "python",
   "name": "python3"
  },
  "language_info": {
   "codemirror_mode": {
    "name": "ipython",
    "version": 3
   },
   "file_extension": ".py",
   "mimetype": "text/x-python",
   "name": "python",
   "nbconvert_exporter": "python",
   "pygments_lexer": "ipython3",
   "version": "3.13.0"
  }
 },
 "nbformat": 4,
 "nbformat_minor": 5
}
