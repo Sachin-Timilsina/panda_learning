{
 "cells": [
  {
   "cell_type": "code",
   "execution_count": 6,
   "id": "617fd534-f72e-40e8-a801-387d1db403c9",
   "metadata": {},
   "outputs": [],
   "source": [
    "import pandas as pd\n",
    "\n",
    "dis = {\"a\":[1,2,3,4,5], \"s\":[1,2,3,4,5], \"d\":[1,2,3,4,5]}\n",
    "\n",
    "d = pd.DataFrame(dis)\n",
    "\n",
    "d\n",
    "\n",
    "d.to_csv(\"new_csv.csv\", index=False, header=[\"Apple\", \"Strawberry\", \"Date\"])"
   ]
  },
  {
   "cell_type": "code",
   "execution_count": null,
   "id": "6dd142e6-3669-4516-b97f-4eccde28f5db",
   "metadata": {},
   "outputs": [],
   "source": []
  }
 ],
 "metadata": {
  "kernelspec": {
   "display_name": "Python 3 (ipykernel)",
   "language": "python",
   "name": "python3"
  },
  "language_info": {
   "codemirror_mode": {
    "name": "ipython",
    "version": 3
   },
   "file_extension": ".py",
   "mimetype": "text/x-python",
   "name": "python",
   "nbconvert_exporter": "python",
   "pygments_lexer": "ipython3",
   "version": "3.13.0"
  }
 },
 "nbformat": 4,
 "nbformat_minor": 5
}
