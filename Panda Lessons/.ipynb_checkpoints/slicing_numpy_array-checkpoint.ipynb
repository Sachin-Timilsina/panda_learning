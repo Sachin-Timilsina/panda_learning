{
 "cells": [
  {
   "cell_type": "code",
   "execution_count": 1,
   "id": "d94c24d7-b10e-4689-b931-01b001d78d56",
   "metadata": {},
   "outputs": [
    {
     "name": "stdout",
     "output_type": "stream",
     "text": [
      "[2 3]\n"
     ]
    }
   ],
   "source": [
    "import numpy as np\n",
    "\n",
    "#slicing numpy array\n",
    "\n",
    "np1 = np.array([1,2,3,4,5])\n",
    "print(np1[1:3])"
   ]
  },
  {
   "cell_type": "code",
   "execution_count": 2,
   "id": "3852f30e-f082-497c-b9bf-95f835a8aec2",
   "metadata": {},
   "outputs": [
    {
     "name": "stdout",
     "output_type": "stream",
     "text": [
      "[2 3 4 5]\n"
     ]
    }
   ],
   "source": [
    "print(np1[1:])"
   ]
  },
  {
   "cell_type": "code",
   "execution_count": 3,
   "id": "00040ba6-6584-4424-810c-99f588546515",
   "metadata": {},
   "outputs": [
    {
     "name": "stdout",
     "output_type": "stream",
     "text": [
      "[2 3 4]\n"
     ]
    }
   ],
   "source": [
    "print(np1[-4:-1])"
   ]
  },
  {
   "cell_type": "code",
   "execution_count": 4,
   "id": "b5c1fbb0-ef68-4a5c-b4e3-c57a2f85da10",
   "metadata": {},
   "outputs": [
    {
     "name": "stdout",
     "output_type": "stream",
     "text": [
      "[1 3 5]\n"
     ]
    }
   ],
   "source": [
    "print(np1[0::2])"
   ]
  },
  {
   "cell_type": "code",
   "execution_count": 5,
   "id": "698fdd7a-bdea-475e-b417-cae910eed213",
   "metadata": {},
   "outputs": [
    {
     "name": "stdout",
     "output_type": "stream",
     "text": [
      "[1 4]\n"
     ]
    }
   ],
   "source": [
    "print(np1[::3])"
   ]
  },
  {
   "cell_type": "code",
   "execution_count": 7,
   "id": "b5495e45-a0ee-4dcb-90da-281036c012a8",
   "metadata": {},
   "outputs": [
    {
     "name": "stdout",
     "output_type": "stream",
     "text": [
      "4\n"
     ]
    }
   ],
   "source": [
    "twod = np.array([[1,2,3,4,5], [6,7,8,9,10]])\n",
    "print(twod[0,3])"
   ]
  },
  {
   "cell_type": "code",
   "execution_count": 8,
   "id": "5e1df08b-90d1-4ff7-8fa6-d19232e61bf2",
   "metadata": {},
   "outputs": [
    {
     "name": "stdout",
     "output_type": "stream",
     "text": [
      "[[1 2 3 4]\n",
      " [6 7 8 9]]\n"
     ]
    }
   ],
   "source": [
    "print(twod[0:2, 0:4])"
   ]
  },
  {
   "cell_type": "code",
   "execution_count": 9,
   "id": "f59b31b7-7998-422e-ac69-044f53a687ba",
   "metadata": {},
   "outputs": [
    {
     "name": "stdout",
     "output_type": "stream",
     "text": [
      "[[1 3]\n",
      " [6 8]]\n"
     ]
    }
   ],
   "source": [
    "#__________row_index:until_row_index, starting_col_index:until_col_index:step\n",
    "print(twod[0:2, 0:4:2])"
   ]
  },
  {
   "cell_type": "code",
   "execution_count": null,
   "id": "05233555-7a88-4c76-9957-12648184cb2a",
   "metadata": {},
   "outputs": [],
   "source": []
  }
 ],
 "metadata": {
  "kernelspec": {
   "display_name": "Python 3 (ipykernel)",
   "language": "python",
   "name": "python3"
  },
  "language_info": {
   "codemirror_mode": {
    "name": "ipython",
    "version": 3
   },
   "file_extension": ".py",
   "mimetype": "text/x-python",
   "name": "python",
   "nbconvert_exporter": "python",
   "pygments_lexer": "ipython3",
   "version": "3.13.0"
  }
 },
 "nbformat": 4,
 "nbformat_minor": 5
}
