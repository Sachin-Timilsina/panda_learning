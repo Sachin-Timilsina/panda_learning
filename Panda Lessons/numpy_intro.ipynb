{
 "cells": [
  {
   "cell_type": "code",
   "execution_count": 1,
   "id": "4a4ef431-3641-406a-a2fa-3dccb6fa4d70",
   "metadata": {},
   "outputs": [],
   "source": [
    "import numpy as np\n",
    "# Numeric Python\n",
    "# ndarray = n-dimensional array"
   ]
  },
  {
   "cell_type": "code",
   "execution_count": 2,
   "id": "5a17d76d-1d73-4f4e-aab1-da4d734780d7",
   "metadata": {},
   "outputs": [
    {
     "data": {
      "text/plain": [
       "(4,)"
      ]
     },
     "execution_count": 2,
     "metadata": {},
     "output_type": "execute_result"
    }
   ],
   "source": [
    "np1 = np.array([0,1,2,3])\n",
    "np1.shape"
   ]
  },
  {
   "cell_type": "code",
   "execution_count": 3,
   "id": "f1708c7f-182d-4963-98ac-c4635481fc9e",
   "metadata": {},
   "outputs": [
    {
     "data": {
      "text/plain": [
       "array([ 0,  1,  2,  3,  4,  5,  6,  7,  8,  9, 10])"
      ]
     },
     "execution_count": 3,
     "metadata": {},
     "output_type": "execute_result"
    }
   ],
   "source": [
    "np2 = np.arange(11)\n",
    "np2"
   ]
  },
  {
   "cell_type": "code",
   "execution_count": 4,
   "id": "67db9466-b5d9-40e4-9ca5-371bff74eaff",
   "metadata": {},
   "outputs": [],
   "source": [
    "np3 = np.zeros(10)"
   ]
  },
  {
   "cell_type": "code",
   "execution_count": 5,
   "id": "6345f8c1-b198-4456-8a15-2a132727609b",
   "metadata": {},
   "outputs": [
    {
     "data": {
      "text/plain": [
       "array([0., 0., 0., 0., 0., 0., 0., 0., 0., 0.])"
      ]
     },
     "execution_count": 5,
     "metadata": {},
     "output_type": "execute_result"
    }
   ],
   "source": [
    "np3"
   ]
  },
  {
   "cell_type": "code",
   "execution_count": 6,
   "id": "0ce5d853-bd43-4b6e-9eaa-abc174285054",
   "metadata": {},
   "outputs": [
    {
     "data": {
      "text/plain": [
       "np.float64(0.0)"
      ]
     },
     "execution_count": 6,
     "metadata": {},
     "output_type": "execute_result"
    }
   ],
   "source": [
    "np3[0]"
   ]
  },
  {
   "cell_type": "code",
   "execution_count": 7,
   "id": "e9842824-76c7-4158-a4bb-6e190bc8e257",
   "metadata": {},
   "outputs": [
    {
     "name": "stdout",
     "output_type": "stream",
     "text": [
      "[[0. 0. 0. 0. 0. 0. 0. 0. 0. 0.]\n",
      " [0. 0. 0. 0. 0. 0. 0. 0. 0. 0.]]\n"
     ]
    }
   ],
   "source": [
    "np4 = np.zeros((2,10))\n",
    "print(np4)"
   ]
  },
  {
   "cell_type": "code",
   "execution_count": null,
   "id": "87385275-ca95-4707-b0b5-b62d43745dac",
   "metadata": {},
   "outputs": [],
   "source": [
    "np5 = np.full((2,10), 10)\n",
    "np5"
   ]
  }
 ],
 "metadata": {
  "kernelspec": {
   "display_name": "Python 3 (ipykernel)",
   "language": "python",
   "name": "python3"
  },
  "language_info": {
   "codemirror_mode": {
    "name": "ipython",
    "version": 3
   },
   "file_extension": ".py",
   "mimetype": "text/x-python",
   "name": "python",
   "nbconvert_exporter": "python",
   "pygments_lexer": "ipython3",
   "version": "3.13.0"
  }
 },
 "nbformat": 4,
 "nbformat_minor": 5
}
