{
 "cells": [
  {
   "cell_type": "code",
   "execution_count": 5,
   "id": "f1f80bda-66ec-4d5d-b97a-838efab3fa54",
   "metadata": {},
   "outputs": [
    {
     "name": "stdout",
     "output_type": "stream",
     "text": [
      "[0 0]\n"
     ]
    }
   ],
   "source": [
    "import numpy as np\n",
    "\n",
    "array_1 = np.array([1,2,3,4,5,6,6,7,8,7,0,10,0])\n",
    "# use np.where to put condition and search for items, returns indexes\n",
    "x = np.where(array_1 == 0) \n",
    "print(array_1[x[0]])"
   ]
  },
  {
   "cell_type": "code",
   "execution_count": null,
   "id": "d465e542-3eff-4689-90d7-425b719d05f3",
   "metadata": {},
   "outputs": [],
   "source": []
  }
 ],
 "metadata": {
  "kernelspec": {
   "display_name": "Python 3 (ipykernel)",
   "language": "python",
   "name": "python3"
  },
  "language_info": {
   "codemirror_mode": {
    "name": "ipython",
    "version": 3
   },
   "file_extension": ".py",
   "mimetype": "text/x-python",
   "name": "python",
   "nbconvert_exporter": "python",
   "pygments_lexer": "ipython3",
   "version": "3.13.0"
  }
 },
 "nbformat": 4,
 "nbformat_minor": 5
}
