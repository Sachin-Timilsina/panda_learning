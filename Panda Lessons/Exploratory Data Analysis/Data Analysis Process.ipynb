{
 "cells": [
  {
   "cell_type": "markdown",
   "id": "1e4de4e3-ecc5-4ac7-a65f-a9082fd2e26a",
   "metadata": {},
   "source": [
    "Step 1: Asking Questions\n",
    "Step 2: Data Wrangling\n",
    "        Gathering\n",
    "        Assessing\n",
    "        Cleaning\n",
    "Step 3: EDA\n",
    "Step 4: Conclusions\n",
    "Step 5: Presentation"
   ]
  },
  {
   "cell_type": "markdown",
   "id": "3e06db17-2bce-403e-bc1a-afaecafad17d",
   "metadata": {},
   "source": [
    "Using Titanic Dataset."
   ]
  },
  {
   "cell_type": "code",
   "execution_count": null,
   "id": "7f141978-d34c-4f91-b89b-62b915e60a9c",
   "metadata": {},
   "outputs": [],
   "source": []
  }
 ],
 "metadata": {
  "kernelspec": {
   "display_name": "Python 3 (ipykernel)",
   "language": "python",
   "name": "python3"
  },
  "language_info": {
   "codemirror_mode": {
    "name": "ipython",
    "version": 3
   },
   "file_extension": ".py",
   "mimetype": "text/x-python",
   "name": "python",
   "nbconvert_exporter": "python",
   "pygments_lexer": "ipython3",
   "version": "3.13.0"
  }
 },
 "nbformat": 4,
 "nbformat_minor": 5
}
