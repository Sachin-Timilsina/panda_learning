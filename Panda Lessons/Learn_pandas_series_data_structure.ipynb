{
 "cells": [
  {
   "cell_type": "markdown",
   "id": "842f0e41-1c1c-4913-8483-a810164f943b",
   "metadata": {},
   "source": [
    "Data structure types in pandas: Series, Data Frame, Panel"
   ]
  },
  {
   "cell_type": "code",
   "execution_count": 15,
   "id": "a5bd6b1a-e6eb-4d9c-9f4d-1b3879fe9e74",
   "metadata": {},
   "outputs": [
    {
     "name": "stdout",
     "output_type": "stream",
     "text": [
      "$     True\n",
      "%     True\n",
      "*    False\n",
      "Name: numbers, dtype: bool\n"
     ]
    }
   ],
   "source": [
    "import pandas as pd\n",
    "\n",
    "x = [1,2, '']\n",
    "\n",
    "series = pd.Series(x, index=['$', '%', '*'], dtype=\"bool\", name=\"numbers\")\n",
    "print(series)"
   ]
  },
  {
   "cell_type": "code",
   "execution_count": 18,
   "id": "18cd29f4-5108-41cc-bdc4-d0348b8d87ef",
   "metadata": {},
   "outputs": [
    {
     "data": {
      "text/plain": [
       "names    [Sachin, Saugat, Sabin, Santosh, Suresh]\n",
       "age                          [19, 25, 23, 31, 33]\n",
       "dtype: object"
      ]
     },
     "execution_count": 18,
     "metadata": {},
     "output_type": "execute_result"
    }
   ],
   "source": [
    "dic = {\"names\": [\"Sachin\", \"Saugat\", \"Sabin\", \"Santosh\", \"Suresh\"], \"age\": [19, 25, 23, 31, 33]}\n",
    "series2 = pd.Series(dic)\n",
    "series2"
   ]
  },
  {
   "cell_type": "code",
   "execution_count": 20,
   "id": "5f6da80f-279e-431d-a4c6-a0f177a21501",
   "metadata": {},
   "outputs": [
    {
     "data": {
      "text/plain": [
       "1    4.0\n",
       "2    4.0\n",
       "3    NaN\n",
       "4    NaN\n",
       "5    NaN\n",
       "dtype: float64"
      ]
     },
     "execution_count": 20,
     "metadata": {},
     "output_type": "execute_result"
    }
   ],
   "source": [
    "series3 = pd.Series(2, index=[1,2,3,4,5])\n",
    "series4 = pd.Series(2, index=[1,2])\n",
    "\n",
    "\n",
    "series3 + series4"
   ]
  },
  {
   "cell_type": "code",
   "execution_count": null,
   "id": "b97c973d-d734-49a4-b39d-d766fa5ed998",
   "metadata": {},
   "outputs": [],
   "source": []
  }
 ],
 "metadata": {
  "kernelspec": {
   "display_name": "Python 3 (ipykernel)",
   "language": "python",
   "name": "python3"
  },
  "language_info": {
   "codemirror_mode": {
    "name": "ipython",
    "version": 3
   },
   "file_extension": ".py",
   "mimetype": "text/x-python",
   "name": "python",
   "nbconvert_exporter": "python",
   "pygments_lexer": "ipython3",
   "version": "3.13.0"
  }
 },
 "nbformat": 4,
 "nbformat_minor": 5
}
