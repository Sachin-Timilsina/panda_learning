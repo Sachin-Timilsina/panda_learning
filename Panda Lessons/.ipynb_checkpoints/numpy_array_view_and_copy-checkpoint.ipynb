{
 "cells": [
  {
   "cell_type": "code",
   "execution_count": 2,
   "id": "be2174bc-d0f5-463d-990a-6351592e6fad",
   "metadata": {},
   "outputs": [
    {
     "name": "stdout",
     "output_type": "stream",
     "text": [
      "[40  1  2  3  4  5]\n",
      "[40  1  2  3  4  5]\n",
      "[ 0 11  2  3  4  5]\n"
     ]
    }
   ],
   "source": [
    "import numpy as np\n",
    "\n",
    "np1 = np.array([0,1,2,3,4,5])\n",
    "\n",
    "#.view() function can be just achieved with assignment like array_a = array_b\n",
    "np2 = np1.view() # Makes a new reference to the original array. meaning just a new pointer\n",
    "\n",
    "np3 = np1.copy() # Makes a copy of the original doens't reference the original array\n",
    "\n",
    "np3[1] = 11\n",
    "np2[0] = 40\n",
    "print(np1)\n",
    "print(np2)\n",
    "print(np3)"
   ]
  },
  {
   "cell_type": "code",
   "execution_count": null,
   "id": "f0c65569-4e85-4c76-aafa-86b03ee0024e",
   "metadata": {},
   "outputs": [],
   "source": []
  }
 ],
 "metadata": {
  "kernelspec": {
   "display_name": "Python 3 (ipykernel)",
   "language": "python",
   "name": "python3"
  },
  "language_info": {
   "codemirror_mode": {
    "name": "ipython",
    "version": 3
   },
   "file_extension": ".py",
   "mimetype": "text/x-python",
   "name": "python",
   "nbconvert_exporter": "python",
   "pygments_lexer": "ipython3",
   "version": "3.13.0"
  }
 },
 "nbformat": 4,
 "nbformat_minor": 5
}
