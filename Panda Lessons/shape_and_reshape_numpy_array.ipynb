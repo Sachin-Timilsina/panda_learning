{
 "cells": [
  {
   "cell_type": "code",
   "execution_count": 1,
   "id": "32993c2d-0a86-47ed-852a-5d4ae03dfc86",
   "metadata": {},
   "outputs": [],
   "source": [
    "import numpy as np\n",
    "\n",
    "np1 = np.array([1,2,3,4,5,6,7,8,9,10,11,12,13,14,15,16,17,18])\n",
    "# print(np1)\n",
    "# print(np1.shape)"
   ]
  },
  {
   "cell_type": "code",
   "execution_count": 2,
   "id": "998f69c9-d513-45f4-9679-6d00a74154fe",
   "metadata": {},
   "outputs": [],
   "source": [
    "# np2 = np1.reshape(2, 7)\n",
    "# np2"
   ]
  },
  {
   "cell_type": "code",
   "execution_count": 4,
   "id": "bf3b47de-7ddf-4a72-870a-ec54f4a66ef7",
   "metadata": {},
   "outputs": [
    {
     "data": {
      "text/plain": [
       "array([ 1,  2,  3,  4,  5,  6,  7,  8,  9, 10, 11, 12, 13, 14, 15, 16, 17,\n",
       "       18])"
      ]
     },
     "execution_count": 4,
     "metadata": {},
     "output_type": "execute_result"
    }
   ],
   "source": [
    "np3 = np1.reshape(2, 3, 3)\n",
    "np3 \n",
    "# Make the 3 dimensional or any dimension 1 dimensional with -1 arg for reshape\n",
    "np4 = np3.reshape(-1) \n",
    "np4"
   ]
  },
  {
   "cell_type": "code",
   "execution_count": null,
   "id": "5b8bba82-af42-4a63-bc9e-01d6e1b11efd",
   "metadata": {},
   "outputs": [],
   "source": []
  }
 ],
 "metadata": {
  "kernelspec": {
   "display_name": "Python 3 (ipykernel)",
   "language": "python",
   "name": "python3"
  },
  "language_info": {
   "codemirror_mode": {
    "name": "ipython",
    "version": 3
   },
   "file_extension": ".py",
   "mimetype": "text/x-python",
   "name": "python",
   "nbconvert_exporter": "python",
   "pygments_lexer": "ipython3",
   "version": "3.13.0"
  }
 },
 "nbformat": 4,
 "nbformat_minor": 5
}
