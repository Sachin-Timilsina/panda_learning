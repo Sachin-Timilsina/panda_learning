{
 "cells": [
  {
   "cell_type": "code",
   "execution_count": 3,
   "id": "fbaf1287-42b5-484b-95b4-3dff67761ffa",
   "metadata": {},
   "outputs": [
    {
     "name": "stdout",
     "output_type": "stream",
     "text": [
      "100\n"
     ]
    }
   ],
   "source": [
    "import numpy as np\n",
    "\n",
    "numpy_arr = np.array([1,2,3,4,5,7,100,-1,-2,0])\n",
    "print(numpy_arr.max())"
   ]
  },
  {
   "cell_type": "code",
   "execution_count": 12,
   "id": "b7fe9e5e-6941-4644-8b32-b625d70a5d83",
   "metadata": {},
   "outputs": [
    {
     "name": "stdout",
     "output_type": "stream",
     "text": [
      "[  1   2   3   4   5   7 100   1   2   0]\n"
     ]
    }
   ],
   "source": [
    "print(np.absolute(numpy_arr))"
   ]
  },
  {
   "cell_type": "code",
   "execution_count": null,
   "id": "b4a2e219-f7cd-4d18-a130-b3828ffe575f",
   "metadata": {},
   "outputs": [],
   "source": []
  }
 ],
 "metadata": {
  "kernelspec": {
   "display_name": "Python 3 (ipykernel)",
   "language": "python",
   "name": "python3"
  },
  "language_info": {
   "codemirror_mode": {
    "name": "ipython",
    "version": 3
   },
   "file_extension": ".py",
   "mimetype": "text/x-python",
   "name": "python",
   "nbconvert_exporter": "python",
   "pygments_lexer": "ipython3",
   "version": "3.13.0"
  }
 },
 "nbformat": 4,
 "nbformat_minor": 5
}
